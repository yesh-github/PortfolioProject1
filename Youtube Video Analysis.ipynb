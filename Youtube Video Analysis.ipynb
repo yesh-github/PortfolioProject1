{
 "cells": [
  {
   "cell_type": "markdown",
   "id": "casual-stanley",
   "metadata": {},
   "source": [
    "# Exploring, Analyzing and Visualizing Youtube Dataset\n",
    "\n",
    "Yaswanth Chittepu, June 2021\n",
    "\n",
    "Data set: https://www.kaggle.com/datasnaek/youtube-new"
   ]
  },
  {
   "cell_type": "markdown",
   "id": "prescribed-edgar",
   "metadata": {},
   "source": [
    "## Loading the libraries and Data"
   ]
  },
  {
   "cell_type": "code",
   "execution_count": 3,
   "id": "endangered-sector",
   "metadata": {},
   "outputs": [],
   "source": [
    "import pandas as pd\n",
    "import matplotlib.pyplot as plt\n",
    "import seaborn as sns\n",
    "import ipywidgets as widgets\n",
    "from ipywidgets import interact, interact_manual"
   ]
  },
  {
   "cell_type": "code",
   "execution_count": 4,
   "id": "tropical-astrology",
   "metadata": {},
   "outputs": [],
   "source": [
    "df = pd.read_csv('CAvideos.csv')"
   ]
  },
  {
   "cell_type": "code",
   "execution_count": 5,
   "id": "oriented-california",
   "metadata": {},
   "outputs": [
    {
     "data": {
      "text/html": [
       "<div>\n",
       "<style scoped>\n",
       "    .dataframe tbody tr th:only-of-type {\n",
       "        vertical-align: middle;\n",
       "    }\n",
       "\n",
       "    .dataframe tbody tr th {\n",
       "        vertical-align: top;\n",
       "    }\n",
       "\n",
       "    .dataframe thead th {\n",
       "        text-align: right;\n",
       "    }\n",
       "</style>\n",
       "<table border=\"1\" class=\"dataframe\">\n",
       "  <thead>\n",
       "    <tr style=\"text-align: right;\">\n",
       "      <th></th>\n",
       "      <th>video_id</th>\n",
       "      <th>trending_date</th>\n",
       "      <th>title</th>\n",
       "      <th>channel_title</th>\n",
       "      <th>category_id</th>\n",
       "      <th>publish_time</th>\n",
       "      <th>tags</th>\n",
       "      <th>views</th>\n",
       "      <th>likes</th>\n",
       "      <th>dislikes</th>\n",
       "      <th>comment_count</th>\n",
       "      <th>thumbnail_link</th>\n",
       "      <th>comments_disabled</th>\n",
       "      <th>ratings_disabled</th>\n",
       "      <th>video_error_or_removed</th>\n",
       "      <th>description</th>\n",
       "    </tr>\n",
       "  </thead>\n",
       "  <tbody>\n",
       "    <tr>\n",
       "      <th>0</th>\n",
       "      <td>n1WpP7iowLc</td>\n",
       "      <td>2017-11-14</td>\n",
       "      <td>Eminem - Walk On Water (Audio) ft. Beyoncé</td>\n",
       "      <td>EminemVEVO</td>\n",
       "      <td>10.0</td>\n",
       "      <td>2017-11-10 17:00:03</td>\n",
       "      <td>Eminem|\"Walk\"|\"On\"|\"Water\"|\"Aftermath/Shady/In...</td>\n",
       "      <td>17158579.0</td>\n",
       "      <td>787425.0</td>\n",
       "      <td>43420.0</td>\n",
       "      <td>125882.0</td>\n",
       "      <td>https://i.ytimg.com/vi/n1WpP7iowLc/default.jpg</td>\n",
       "      <td>False</td>\n",
       "      <td>False</td>\n",
       "      <td>False</td>\n",
       "      <td>Eminem's new track Walk on Water ft. Beyoncé i...</td>\n",
       "    </tr>\n",
       "    <tr>\n",
       "      <th>1</th>\n",
       "      <td>0dBIkQ4Mz1M</td>\n",
       "      <td>2017-11-14</td>\n",
       "      <td>PLUSH - Bad Unboxing Fan Mail</td>\n",
       "      <td>iDubbbzTV</td>\n",
       "      <td>23.0</td>\n",
       "      <td>2017-11-13 17:00:00</td>\n",
       "      <td>plush|\"bad unboxing\"|\"unboxing\"|\"fan mail\"|\"id...</td>\n",
       "      <td>1014651.0</td>\n",
       "      <td>127794.0</td>\n",
       "      <td>1688.0</td>\n",
       "      <td>13030.0</td>\n",
       "      <td>https://i.ytimg.com/vi/0dBIkQ4Mz1M/default.jpg</td>\n",
       "      <td>False</td>\n",
       "      <td>False</td>\n",
       "      <td>False</td>\n",
       "      <td>STill got a lot of packages. Probably will las...</td>\n",
       "    </tr>\n",
       "    <tr>\n",
       "      <th>2</th>\n",
       "      <td>d380meD0W0M</td>\n",
       "      <td>2017-11-14</td>\n",
       "      <td>I Dare You: GOING BALD!?</td>\n",
       "      <td>nigahiga</td>\n",
       "      <td>24.0</td>\n",
       "      <td>2017-11-12 18:01:41</td>\n",
       "      <td>ryan|\"higa\"|\"higatv\"|\"nigahiga\"|\"i dare you\"|\"...</td>\n",
       "      <td>2095828.0</td>\n",
       "      <td>132239.0</td>\n",
       "      <td>1989.0</td>\n",
       "      <td>17518.0</td>\n",
       "      <td>https://i.ytimg.com/vi/d380meD0W0M/default.jpg</td>\n",
       "      <td>False</td>\n",
       "      <td>False</td>\n",
       "      <td>False</td>\n",
       "      <td>I know it's been a while since we did this sho...</td>\n",
       "    </tr>\n",
       "    <tr>\n",
       "      <th>3</th>\n",
       "      <td>2Vv-BfVoq4g</td>\n",
       "      <td>2017-11-14</td>\n",
       "      <td>Ed Sheeran - Perfect (Official Music Video)</td>\n",
       "      <td>Ed Sheeran</td>\n",
       "      <td>10.0</td>\n",
       "      <td>2017-11-09 11:04:14</td>\n",
       "      <td>edsheeran|\"ed sheeran\"|\"acoustic\"|\"live\"|\"cove...</td>\n",
       "      <td>33523622.0</td>\n",
       "      <td>1634130.0</td>\n",
       "      <td>21082.0</td>\n",
       "      <td>85067.0</td>\n",
       "      <td>https://i.ytimg.com/vi/2Vv-BfVoq4g/default.jpg</td>\n",
       "      <td>False</td>\n",
       "      <td>False</td>\n",
       "      <td>False</td>\n",
       "      <td>🎧: https://ad.gt/yt-perfect\\n💰: https://atlant...</td>\n",
       "    </tr>\n",
       "    <tr>\n",
       "      <th>4</th>\n",
       "      <td>0yIWz1XEeyc</td>\n",
       "      <td>2017-11-14</td>\n",
       "      <td>Jake Paul Says Alissa Violet CHEATED with LOGA...</td>\n",
       "      <td>DramaAlert</td>\n",
       "      <td>25.0</td>\n",
       "      <td>2017-11-13 07:37:51</td>\n",
       "      <td>#DramaAlert|\"Drama\"|\"Alert\"|\"DramaAlert\"|\"keem...</td>\n",
       "      <td>1309699.0</td>\n",
       "      <td>103755.0</td>\n",
       "      <td>4613.0</td>\n",
       "      <td>12143.0</td>\n",
       "      <td>https://i.ytimg.com/vi/0yIWz1XEeyc/default.jpg</td>\n",
       "      <td>False</td>\n",
       "      <td>False</td>\n",
       "      <td>False</td>\n",
       "      <td>► Follow for News! - https://twitter.com/KEEMS...</td>\n",
       "    </tr>\n",
       "  </tbody>\n",
       "</table>\n",
       "</div>"
      ],
      "text/plain": [
       "      video_id trending_date  \\\n",
       "0  n1WpP7iowLc    2017-11-14   \n",
       "1  0dBIkQ4Mz1M    2017-11-14   \n",
       "2  d380meD0W0M    2017-11-14   \n",
       "3  2Vv-BfVoq4g    2017-11-14   \n",
       "4  0yIWz1XEeyc    2017-11-14   \n",
       "\n",
       "                                               title channel_title  \\\n",
       "0         Eminem - Walk On Water (Audio) ft. Beyoncé    EminemVEVO   \n",
       "1                      PLUSH - Bad Unboxing Fan Mail     iDubbbzTV   \n",
       "2                           I Dare You: GOING BALD!?      nigahiga   \n",
       "3        Ed Sheeran - Perfect (Official Music Video)    Ed Sheeran   \n",
       "4  Jake Paul Says Alissa Violet CHEATED with LOGA...    DramaAlert   \n",
       "\n",
       "   category_id         publish_time  \\\n",
       "0         10.0  2017-11-10 17:00:03   \n",
       "1         23.0  2017-11-13 17:00:00   \n",
       "2         24.0  2017-11-12 18:01:41   \n",
       "3         10.0  2017-11-09 11:04:14   \n",
       "4         25.0  2017-11-13 07:37:51   \n",
       "\n",
       "                                                tags       views      likes  \\\n",
       "0  Eminem|\"Walk\"|\"On\"|\"Water\"|\"Aftermath/Shady/In...  17158579.0   787425.0   \n",
       "1  plush|\"bad unboxing\"|\"unboxing\"|\"fan mail\"|\"id...   1014651.0   127794.0   \n",
       "2  ryan|\"higa\"|\"higatv\"|\"nigahiga\"|\"i dare you\"|\"...   2095828.0   132239.0   \n",
       "3  edsheeran|\"ed sheeran\"|\"acoustic\"|\"live\"|\"cove...  33523622.0  1634130.0   \n",
       "4  #DramaAlert|\"Drama\"|\"Alert\"|\"DramaAlert\"|\"keem...   1309699.0   103755.0   \n",
       "\n",
       "   dislikes  comment_count                                  thumbnail_link  \\\n",
       "0   43420.0       125882.0  https://i.ytimg.com/vi/n1WpP7iowLc/default.jpg   \n",
       "1    1688.0        13030.0  https://i.ytimg.com/vi/0dBIkQ4Mz1M/default.jpg   \n",
       "2    1989.0        17518.0  https://i.ytimg.com/vi/d380meD0W0M/default.jpg   \n",
       "3   21082.0        85067.0  https://i.ytimg.com/vi/2Vv-BfVoq4g/default.jpg   \n",
       "4    4613.0        12143.0  https://i.ytimg.com/vi/0yIWz1XEeyc/default.jpg   \n",
       "\n",
       "   comments_disabled  ratings_disabled  video_error_or_removed  \\\n",
       "0              False             False                   False   \n",
       "1              False             False                   False   \n",
       "2              False             False                   False   \n",
       "3              False             False                   False   \n",
       "4              False             False                   False   \n",
       "\n",
       "                                         description  \n",
       "0  Eminem's new track Walk on Water ft. Beyoncé i...  \n",
       "1  STill got a lot of packages. Probably will las...  \n",
       "2  I know it's been a while since we did this sho...  \n",
       "3  🎧: https://ad.gt/yt-perfect\\n💰: https://atlant...  \n",
       "4  ► Follow for News! - https://twitter.com/KEEMS...  "
      ]
     },
     "execution_count": 5,
     "metadata": {},
     "output_type": "execute_result"
    }
   ],
   "source": [
    "df.head()"
   ]
  },
  {
   "cell_type": "markdown",
   "id": "living-hardware",
   "metadata": {},
   "source": [
    "This data set has information on YouTube videos. There are columns that have the title of the video, the video's channel, when it was first published, and when it became trending, along with other information."
   ]
  },
  {
   "cell_type": "markdown",
   "id": "gross-gallery",
   "metadata": {},
   "source": [
    "## Data exploration\n",
    "We got the data loaded. Let's explore it a little bit to understand it better."
   ]
  },
  {
   "cell_type": "code",
   "execution_count": 6,
   "id": "unexpected-wallpaper",
   "metadata": {},
   "outputs": [
    {
     "name": "stdout",
     "output_type": "stream",
     "text": [
      "<class 'pandas.core.frame.DataFrame'>\n",
      "RangeIndex: 40880 entries, 0 to 40879\n",
      "Data columns (total 16 columns):\n",
      " #   Column                  Non-Null Count  Dtype  \n",
      "---  ------                  --------------  -----  \n",
      " 0   video_id                40880 non-null  object \n",
      " 1   trending_date           40880 non-null  object \n",
      " 2   title                   40880 non-null  object \n",
      " 3   channel_title           40880 non-null  object \n",
      " 4   category_id             40880 non-null  float64\n",
      " 5   publish_time            40880 non-null  object \n",
      " 6   tags                    40880 non-null  object \n",
      " 7   views                   40880 non-null  float64\n",
      " 8   likes                   40880 non-null  float64\n",
      " 9   dislikes                40880 non-null  float64\n",
      " 10  comment_count           40880 non-null  float64\n",
      " 11  thumbnail_link          40880 non-null  object \n",
      " 12  comments_disabled       40880 non-null  bool   \n",
      " 13  ratings_disabled        40880 non-null  bool   \n",
      " 14  video_error_or_removed  40880 non-null  bool   \n",
      " 15  description             39584 non-null  object \n",
      "dtypes: bool(3), float64(5), object(8)\n",
      "memory usage: 4.2+ MB\n"
     ]
    }
   ],
   "source": [
    "df.info()"
   ]
  },
  {
   "cell_type": "code",
   "execution_count": 7,
   "id": "located-popularity",
   "metadata": {},
   "outputs": [
    {
     "data": {
      "text/html": [
       "<div>\n",
       "<style scoped>\n",
       "    .dataframe tbody tr th:only-of-type {\n",
       "        vertical-align: middle;\n",
       "    }\n",
       "\n",
       "    .dataframe tbody tr th {\n",
       "        vertical-align: top;\n",
       "    }\n",
       "\n",
       "    .dataframe thead th {\n",
       "        text-align: right;\n",
       "    }\n",
       "</style>\n",
       "<table border=\"1\" class=\"dataframe\">\n",
       "  <thead>\n",
       "    <tr style=\"text-align: right;\">\n",
       "      <th></th>\n",
       "      <th>category_id</th>\n",
       "      <th>views</th>\n",
       "      <th>likes</th>\n",
       "      <th>dislikes</th>\n",
       "      <th>comment_count</th>\n",
       "    </tr>\n",
       "  </thead>\n",
       "  <tbody>\n",
       "    <tr>\n",
       "      <th>count</th>\n",
       "      <td>40880.000000</td>\n",
       "      <td>4.088000e+04</td>\n",
       "      <td>4.088000e+04</td>\n",
       "      <td>4.088000e+04</td>\n",
       "      <td>4.088000e+04</td>\n",
       "    </tr>\n",
       "    <tr>\n",
       "      <th>mean</th>\n",
       "      <td>20.795499</td>\n",
       "      <td>1.146986e+06</td>\n",
       "      <td>3.958008e+04</td>\n",
       "      <td>2.009114e+03</td>\n",
       "      <td>5.042898e+03</td>\n",
       "    </tr>\n",
       "    <tr>\n",
       "      <th>std</th>\n",
       "      <td>6.775128</td>\n",
       "      <td>3.390939e+06</td>\n",
       "      <td>1.326901e+05</td>\n",
       "      <td>1.900860e+04</td>\n",
       "      <td>2.157928e+04</td>\n",
       "    </tr>\n",
       "    <tr>\n",
       "      <th>min</th>\n",
       "      <td>1.000000</td>\n",
       "      <td>7.330000e+02</td>\n",
       "      <td>0.000000e+00</td>\n",
       "      <td>0.000000e+00</td>\n",
       "      <td>0.000000e+00</td>\n",
       "    </tr>\n",
       "    <tr>\n",
       "      <th>25%</th>\n",
       "      <td>20.000000</td>\n",
       "      <td>1.438992e+05</td>\n",
       "      <td>2.191000e+03</td>\n",
       "      <td>9.900000e+01</td>\n",
       "      <td>4.170000e+02</td>\n",
       "    </tr>\n",
       "    <tr>\n",
       "      <th>50%</th>\n",
       "      <td>24.000000</td>\n",
       "      <td>3.712005e+05</td>\n",
       "      <td>8.779000e+03</td>\n",
       "      <td>3.030000e+02</td>\n",
       "      <td>1.301000e+03</td>\n",
       "    </tr>\n",
       "    <tr>\n",
       "      <th>75%</th>\n",
       "      <td>24.000000</td>\n",
       "      <td>9.632825e+05</td>\n",
       "      <td>2.870950e+04</td>\n",
       "      <td>9.500000e+02</td>\n",
       "      <td>3.712250e+03</td>\n",
       "    </tr>\n",
       "    <tr>\n",
       "      <th>max</th>\n",
       "      <td>43.000000</td>\n",
       "      <td>1.378431e+08</td>\n",
       "      <td>5.053338e+06</td>\n",
       "      <td>1.602383e+06</td>\n",
       "      <td>1.114800e+06</td>\n",
       "    </tr>\n",
       "  </tbody>\n",
       "</table>\n",
       "</div>"
      ],
      "text/plain": [
       "        category_id         views         likes      dislikes  comment_count\n",
       "count  40880.000000  4.088000e+04  4.088000e+04  4.088000e+04   4.088000e+04\n",
       "mean      20.795499  1.146986e+06  3.958008e+04  2.009114e+03   5.042898e+03\n",
       "std        6.775128  3.390939e+06  1.326901e+05  1.900860e+04   2.157928e+04\n",
       "min        1.000000  7.330000e+02  0.000000e+00  0.000000e+00   0.000000e+00\n",
       "25%       20.000000  1.438992e+05  2.191000e+03  9.900000e+01   4.170000e+02\n",
       "50%       24.000000  3.712005e+05  8.779000e+03  3.030000e+02   1.301000e+03\n",
       "75%       24.000000  9.632825e+05  2.870950e+04  9.500000e+02   3.712250e+03\n",
       "max       43.000000  1.378431e+08  5.053338e+06  1.602383e+06   1.114800e+06"
      ]
     },
     "execution_count": 7,
     "metadata": {},
     "output_type": "execute_result"
    }
   ],
   "source": [
    "df.describe()"
   ]
  },
  {
   "cell_type": "markdown",
   "id": "physical-economy",
   "metadata": {},
   "source": [
    "The 25% quartile for views is 143, 902 meaning that 25% of the videos in the data set have fewer than this number of views.\n",
    "\n",
    "There is a video in the data set that has 1.6M dislikes! The maximum number of likes for any video is only 5M. What is it about that video, that despite being disliked so widely, that it was still a trending YouTube video?\n",
    "\n"
   ]
  },
  {
   "cell_type": "code",
   "execution_count": 8,
   "id": "sustained-prefix",
   "metadata": {},
   "outputs": [
    {
     "data": {
      "text/plain": [
       "5076"
      ]
     },
     "execution_count": 8,
     "metadata": {},
     "output_type": "execute_result"
    }
   ],
   "source": [
    "df['channel_title'].nunique()"
   ]
  },
  {
   "cell_type": "code",
   "execution_count": 9,
   "id": "military-penalty",
   "metadata": {},
   "outputs": [
    {
     "data": {
      "text/plain": [
       "40880"
      ]
     },
     "execution_count": 9,
     "metadata": {},
     "output_type": "execute_result"
    }
   ],
   "source": [
    "len(df)"
   ]
  },
  {
   "cell_type": "markdown",
   "id": "southwest-worse",
   "metadata": {},
   "source": [
    "For example, there are 5076 unique channels in the data set, out of a total of 40 881 trending videos. Therefore the channels in this data have about 8 trending videos on average."
   ]
  },
  {
   "cell_type": "markdown",
   "id": "interpreted-operator",
   "metadata": {},
   "source": [
    "Let's find trending videos that have both 'Avengers' in their title and have more than 50M views."
   ]
  },
  {
   "cell_type": "code",
   "execution_count": 10,
   "id": "foster-frequency",
   "metadata": {},
   "outputs": [
    {
     "data": {
      "text/html": [
       "<div>\n",
       "<style scoped>\n",
       "    .dataframe tbody tr th:only-of-type {\n",
       "        vertical-align: middle;\n",
       "    }\n",
       "\n",
       "    .dataframe tbody tr th {\n",
       "        vertical-align: top;\n",
       "    }\n",
       "\n",
       "    .dataframe thead th {\n",
       "        text-align: right;\n",
       "    }\n",
       "</style>\n",
       "<table border=\"1\" class=\"dataframe\">\n",
       "  <thead>\n",
       "    <tr style=\"text-align: right;\">\n",
       "      <th></th>\n",
       "      <th>video_id</th>\n",
       "      <th>trending_date</th>\n",
       "      <th>title</th>\n",
       "      <th>channel_title</th>\n",
       "      <th>category_id</th>\n",
       "      <th>publish_time</th>\n",
       "      <th>tags</th>\n",
       "      <th>views</th>\n",
       "      <th>likes</th>\n",
       "      <th>dislikes</th>\n",
       "      <th>comment_count</th>\n",
       "      <th>thumbnail_link</th>\n",
       "      <th>comments_disabled</th>\n",
       "      <th>ratings_disabled</th>\n",
       "      <th>video_error_or_removed</th>\n",
       "      <th>description</th>\n",
       "    </tr>\n",
       "  </thead>\n",
       "  <tbody>\n",
       "    <tr>\n",
       "      <th>3397</th>\n",
       "      <td>6ZfuNTqbHE8</td>\n",
       "      <td>2017-12-01</td>\n",
       "      <td>Marvel Studios' Avengers: Infinity War Officia...</td>\n",
       "      <td>Marvel Entertainment</td>\n",
       "      <td>24.0</td>\n",
       "      <td>2017-11-29 13:26:24</td>\n",
       "      <td>marvel|\"comics\"|\"comic books\"|\"nerdy\"|\"geeky\"|...</td>\n",
       "      <td>56367282.0</td>\n",
       "      <td>2157741.0</td>\n",
       "      <td>34078.0</td>\n",
       "      <td>303178.0</td>\n",
       "      <td>https://i.ytimg.com/vi/6ZfuNTqbHE8/default.jpg</td>\n",
       "      <td>False</td>\n",
       "      <td>False</td>\n",
       "      <td>False</td>\n",
       "      <td>There was an idea… Avengers: Infinity War. In ...</td>\n",
       "    </tr>\n",
       "    <tr>\n",
       "      <th>3597</th>\n",
       "      <td>6ZfuNTqbHE8</td>\n",
       "      <td>2017-12-02</td>\n",
       "      <td>Marvel Studios' Avengers: Infinity War Officia...</td>\n",
       "      <td>Marvel Entertainment</td>\n",
       "      <td>24.0</td>\n",
       "      <td>2017-11-29 13:26:24</td>\n",
       "      <td>marvel|\"comics\"|\"comic books\"|\"nerdy\"|\"geeky\"|...</td>\n",
       "      <td>66637636.0</td>\n",
       "      <td>2331359.0</td>\n",
       "      <td>41154.0</td>\n",
       "      <td>316185.0</td>\n",
       "      <td>https://i.ytimg.com/vi/6ZfuNTqbHE8/default.jpg</td>\n",
       "      <td>False</td>\n",
       "      <td>False</td>\n",
       "      <td>False</td>\n",
       "      <td>There was an idea… Avengers: Infinity War. In ...</td>\n",
       "    </tr>\n",
       "    <tr>\n",
       "      <th>3797</th>\n",
       "      <td>6ZfuNTqbHE8</td>\n",
       "      <td>2017-12-03</td>\n",
       "      <td>Marvel Studios' Avengers: Infinity War Officia...</td>\n",
       "      <td>Marvel Entertainment</td>\n",
       "      <td>24.0</td>\n",
       "      <td>2017-11-29 13:26:24</td>\n",
       "      <td>marvel|\"comics\"|\"comic books\"|\"nerdy\"|\"geeky\"|...</td>\n",
       "      <td>74789251.0</td>\n",
       "      <td>2444960.0</td>\n",
       "      <td>46172.0</td>\n",
       "      <td>330710.0</td>\n",
       "      <td>https://i.ytimg.com/vi/6ZfuNTqbHE8/default.jpg</td>\n",
       "      <td>False</td>\n",
       "      <td>False</td>\n",
       "      <td>False</td>\n",
       "      <td>There was an idea… Avengers: Infinity War. In ...</td>\n",
       "    </tr>\n",
       "    <tr>\n",
       "      <th>3997</th>\n",
       "      <td>6ZfuNTqbHE8</td>\n",
       "      <td>2017-12-04</td>\n",
       "      <td>Marvel Studios' Avengers: Infinity War Officia...</td>\n",
       "      <td>Marvel Entertainment</td>\n",
       "      <td>24.0</td>\n",
       "      <td>2017-11-29 13:26:24</td>\n",
       "      <td>marvel|\"comics\"|\"comic books\"|\"nerdy\"|\"geeky\"|...</td>\n",
       "      <td>80360459.0</td>\n",
       "      <td>2513103.0</td>\n",
       "      <td>49170.0</td>\n",
       "      <td>335920.0</td>\n",
       "      <td>https://i.ytimg.com/vi/6ZfuNTqbHE8/default.jpg</td>\n",
       "      <td>False</td>\n",
       "      <td>False</td>\n",
       "      <td>False</td>\n",
       "      <td>There was an idea… Avengers: Infinity War. In ...</td>\n",
       "    </tr>\n",
       "    <tr>\n",
       "      <th>4201</th>\n",
       "      <td>6ZfuNTqbHE8</td>\n",
       "      <td>2017-12-05</td>\n",
       "      <td>Marvel Studios' Avengers: Infinity War Officia...</td>\n",
       "      <td>Marvel Entertainment</td>\n",
       "      <td>24.0</td>\n",
       "      <td>2017-11-29 13:26:24</td>\n",
       "      <td>marvel|\"comics\"|\"comic books\"|\"nerdy\"|\"geeky\"|...</td>\n",
       "      <td>84281319.0</td>\n",
       "      <td>2555414.0</td>\n",
       "      <td>51008.0</td>\n",
       "      <td>339708.0</td>\n",
       "      <td>https://i.ytimg.com/vi/6ZfuNTqbHE8/default.jpg</td>\n",
       "      <td>False</td>\n",
       "      <td>False</td>\n",
       "      <td>False</td>\n",
       "      <td>There was an idea… Avengers: Infinity War. In ...</td>\n",
       "    </tr>\n",
       "    <tr>\n",
       "      <th>4450</th>\n",
       "      <td>6ZfuNTqbHE8</td>\n",
       "      <td>2017-12-06</td>\n",
       "      <td>Marvel Studios' Avengers: Infinity War Officia...</td>\n",
       "      <td>Marvel Entertainment</td>\n",
       "      <td>24.0</td>\n",
       "      <td>2017-11-29 13:26:24</td>\n",
       "      <td>marvel|\"comics\"|\"comic books\"|\"nerdy\"|\"geeky\"|...</td>\n",
       "      <td>87450245.0</td>\n",
       "      <td>2584675.0</td>\n",
       "      <td>52176.0</td>\n",
       "      <td>341571.0</td>\n",
       "      <td>https://i.ytimg.com/vi/6ZfuNTqbHE8/default.jpg</td>\n",
       "      <td>False</td>\n",
       "      <td>False</td>\n",
       "      <td>False</td>\n",
       "      <td>There was an idea… Avengers: Infinity War. In ...</td>\n",
       "    </tr>\n",
       "    <tr>\n",
       "      <th>4698</th>\n",
       "      <td>6ZfuNTqbHE8</td>\n",
       "      <td>2017-12-07</td>\n",
       "      <td>Marvel Studios' Avengers: Infinity War Officia...</td>\n",
       "      <td>Marvel Entertainment</td>\n",
       "      <td>24.0</td>\n",
       "      <td>2017-11-29 13:26:24</td>\n",
       "      <td>marvel|\"comics\"|\"comic books\"|\"nerdy\"|\"geeky\"|...</td>\n",
       "      <td>89930713.0</td>\n",
       "      <td>2606665.0</td>\n",
       "      <td>53011.0</td>\n",
       "      <td>347982.0</td>\n",
       "      <td>https://i.ytimg.com/vi/6ZfuNTqbHE8/default.jpg</td>\n",
       "      <td>False</td>\n",
       "      <td>False</td>\n",
       "      <td>False</td>\n",
       "      <td>There was an idea… Avengers: Infinity War. In ...</td>\n",
       "    </tr>\n",
       "  </tbody>\n",
       "</table>\n",
       "</div>"
      ],
      "text/plain": [
       "         video_id trending_date  \\\n",
       "3397  6ZfuNTqbHE8    2017-12-01   \n",
       "3597  6ZfuNTqbHE8    2017-12-02   \n",
       "3797  6ZfuNTqbHE8    2017-12-03   \n",
       "3997  6ZfuNTqbHE8    2017-12-04   \n",
       "4201  6ZfuNTqbHE8    2017-12-05   \n",
       "4450  6ZfuNTqbHE8    2017-12-06   \n",
       "4698  6ZfuNTqbHE8    2017-12-07   \n",
       "\n",
       "                                                  title         channel_title  \\\n",
       "3397  Marvel Studios' Avengers: Infinity War Officia...  Marvel Entertainment   \n",
       "3597  Marvel Studios' Avengers: Infinity War Officia...  Marvel Entertainment   \n",
       "3797  Marvel Studios' Avengers: Infinity War Officia...  Marvel Entertainment   \n",
       "3997  Marvel Studios' Avengers: Infinity War Officia...  Marvel Entertainment   \n",
       "4201  Marvel Studios' Avengers: Infinity War Officia...  Marvel Entertainment   \n",
       "4450  Marvel Studios' Avengers: Infinity War Officia...  Marvel Entertainment   \n",
       "4698  Marvel Studios' Avengers: Infinity War Officia...  Marvel Entertainment   \n",
       "\n",
       "      category_id         publish_time  \\\n",
       "3397         24.0  2017-11-29 13:26:24   \n",
       "3597         24.0  2017-11-29 13:26:24   \n",
       "3797         24.0  2017-11-29 13:26:24   \n",
       "3997         24.0  2017-11-29 13:26:24   \n",
       "4201         24.0  2017-11-29 13:26:24   \n",
       "4450         24.0  2017-11-29 13:26:24   \n",
       "4698         24.0  2017-11-29 13:26:24   \n",
       "\n",
       "                                                   tags       views  \\\n",
       "3397  marvel|\"comics\"|\"comic books\"|\"nerdy\"|\"geeky\"|...  56367282.0   \n",
       "3597  marvel|\"comics\"|\"comic books\"|\"nerdy\"|\"geeky\"|...  66637636.0   \n",
       "3797  marvel|\"comics\"|\"comic books\"|\"nerdy\"|\"geeky\"|...  74789251.0   \n",
       "3997  marvel|\"comics\"|\"comic books\"|\"nerdy\"|\"geeky\"|...  80360459.0   \n",
       "4201  marvel|\"comics\"|\"comic books\"|\"nerdy\"|\"geeky\"|...  84281319.0   \n",
       "4450  marvel|\"comics\"|\"comic books\"|\"nerdy\"|\"geeky\"|...  87450245.0   \n",
       "4698  marvel|\"comics\"|\"comic books\"|\"nerdy\"|\"geeky\"|...  89930713.0   \n",
       "\n",
       "          likes  dislikes  comment_count  \\\n",
       "3397  2157741.0   34078.0       303178.0   \n",
       "3597  2331359.0   41154.0       316185.0   \n",
       "3797  2444960.0   46172.0       330710.0   \n",
       "3997  2513103.0   49170.0       335920.0   \n",
       "4201  2555414.0   51008.0       339708.0   \n",
       "4450  2584675.0   52176.0       341571.0   \n",
       "4698  2606665.0   53011.0       347982.0   \n",
       "\n",
       "                                      thumbnail_link  comments_disabled  \\\n",
       "3397  https://i.ytimg.com/vi/6ZfuNTqbHE8/default.jpg              False   \n",
       "3597  https://i.ytimg.com/vi/6ZfuNTqbHE8/default.jpg              False   \n",
       "3797  https://i.ytimg.com/vi/6ZfuNTqbHE8/default.jpg              False   \n",
       "3997  https://i.ytimg.com/vi/6ZfuNTqbHE8/default.jpg              False   \n",
       "4201  https://i.ytimg.com/vi/6ZfuNTqbHE8/default.jpg              False   \n",
       "4450  https://i.ytimg.com/vi/6ZfuNTqbHE8/default.jpg              False   \n",
       "4698  https://i.ytimg.com/vi/6ZfuNTqbHE8/default.jpg              False   \n",
       "\n",
       "      ratings_disabled  video_error_or_removed  \\\n",
       "3397             False                   False   \n",
       "3597             False                   False   \n",
       "3797             False                   False   \n",
       "3997             False                   False   \n",
       "4201             False                   False   \n",
       "4450             False                   False   \n",
       "4698             False                   False   \n",
       "\n",
       "                                            description  \n",
       "3397  There was an idea… Avengers: Infinity War. In ...  \n",
       "3597  There was an idea… Avengers: Infinity War. In ...  \n",
       "3797  There was an idea… Avengers: Infinity War. In ...  \n",
       "3997  There was an idea… Avengers: Infinity War. In ...  \n",
       "4201  There was an idea… Avengers: Infinity War. In ...  \n",
       "4450  There was an idea… Avengers: Infinity War. In ...  \n",
       "4698  There was an idea… Avengers: Infinity War. In ...  "
      ]
     },
     "execution_count": 10,
     "metadata": {},
     "output_type": "execute_result"
    }
   ],
   "source": [
    "df[(df['title'].str.contains('Avengers')) & (df['views'] > 50000000)]"
   ]
  },
  {
   "cell_type": "markdown",
   "id": "historical-relations",
   "metadata": {},
   "source": [
    "Let's create two more columns. One will be the difference between likes and dislikes, and the other the ratio of likes over dislikes."
   ]
  },
  {
   "cell_type": "code",
   "execution_count": 11,
   "id": "sonic-glass",
   "metadata": {},
   "outputs": [
    {
     "data": {
      "text/html": [
       "<div>\n",
       "<style scoped>\n",
       "    .dataframe tbody tr th:only-of-type {\n",
       "        vertical-align: middle;\n",
       "    }\n",
       "\n",
       "    .dataframe tbody tr th {\n",
       "        vertical-align: top;\n",
       "    }\n",
       "\n",
       "    .dataframe thead th {\n",
       "        text-align: right;\n",
       "    }\n",
       "</style>\n",
       "<table border=\"1\" class=\"dataframe\">\n",
       "  <thead>\n",
       "    <tr style=\"text-align: right;\">\n",
       "      <th></th>\n",
       "      <th>video_id</th>\n",
       "      <th>trending_date</th>\n",
       "      <th>title</th>\n",
       "      <th>channel_title</th>\n",
       "      <th>category_id</th>\n",
       "      <th>publish_time</th>\n",
       "      <th>tags</th>\n",
       "      <th>views</th>\n",
       "      <th>likes</th>\n",
       "      <th>dislikes</th>\n",
       "      <th>comment_count</th>\n",
       "      <th>thumbnail_link</th>\n",
       "      <th>comments_disabled</th>\n",
       "      <th>ratings_disabled</th>\n",
       "      <th>video_error_or_removed</th>\n",
       "      <th>description</th>\n",
       "      <th>like_diff</th>\n",
       "      <th>like_ratio</th>\n",
       "    </tr>\n",
       "  </thead>\n",
       "  <tbody>\n",
       "    <tr>\n",
       "      <th>0</th>\n",
       "      <td>n1WpP7iowLc</td>\n",
       "      <td>2017-11-14</td>\n",
       "      <td>Eminem - Walk On Water (Audio) ft. Beyoncé</td>\n",
       "      <td>EminemVEVO</td>\n",
       "      <td>10.0</td>\n",
       "      <td>2017-11-10 17:00:03</td>\n",
       "      <td>Eminem|\"Walk\"|\"On\"|\"Water\"|\"Aftermath/Shady/In...</td>\n",
       "      <td>17158579.0</td>\n",
       "      <td>787425.0</td>\n",
       "      <td>43420.0</td>\n",
       "      <td>125882.0</td>\n",
       "      <td>https://i.ytimg.com/vi/n1WpP7iowLc/default.jpg</td>\n",
       "      <td>False</td>\n",
       "      <td>False</td>\n",
       "      <td>False</td>\n",
       "      <td>Eminem's new track Walk on Water ft. Beyoncé i...</td>\n",
       "      <td>744005.0</td>\n",
       "      <td>18.135076</td>\n",
       "    </tr>\n",
       "    <tr>\n",
       "      <th>1</th>\n",
       "      <td>0dBIkQ4Mz1M</td>\n",
       "      <td>2017-11-14</td>\n",
       "      <td>PLUSH - Bad Unboxing Fan Mail</td>\n",
       "      <td>iDubbbzTV</td>\n",
       "      <td>23.0</td>\n",
       "      <td>2017-11-13 17:00:00</td>\n",
       "      <td>plush|\"bad unboxing\"|\"unboxing\"|\"fan mail\"|\"id...</td>\n",
       "      <td>1014651.0</td>\n",
       "      <td>127794.0</td>\n",
       "      <td>1688.0</td>\n",
       "      <td>13030.0</td>\n",
       "      <td>https://i.ytimg.com/vi/0dBIkQ4Mz1M/default.jpg</td>\n",
       "      <td>False</td>\n",
       "      <td>False</td>\n",
       "      <td>False</td>\n",
       "      <td>STill got a lot of packages. Probably will las...</td>\n",
       "      <td>126106.0</td>\n",
       "      <td>75.707346</td>\n",
       "    </tr>\n",
       "    <tr>\n",
       "      <th>2</th>\n",
       "      <td>d380meD0W0M</td>\n",
       "      <td>2017-11-14</td>\n",
       "      <td>I Dare You: GOING BALD!?</td>\n",
       "      <td>nigahiga</td>\n",
       "      <td>24.0</td>\n",
       "      <td>2017-11-12 18:01:41</td>\n",
       "      <td>ryan|\"higa\"|\"higatv\"|\"nigahiga\"|\"i dare you\"|\"...</td>\n",
       "      <td>2095828.0</td>\n",
       "      <td>132239.0</td>\n",
       "      <td>1989.0</td>\n",
       "      <td>17518.0</td>\n",
       "      <td>https://i.ytimg.com/vi/d380meD0W0M/default.jpg</td>\n",
       "      <td>False</td>\n",
       "      <td>False</td>\n",
       "      <td>False</td>\n",
       "      <td>I know it's been a while since we did this sho...</td>\n",
       "      <td>130250.0</td>\n",
       "      <td>66.485168</td>\n",
       "    </tr>\n",
       "    <tr>\n",
       "      <th>3</th>\n",
       "      <td>2Vv-BfVoq4g</td>\n",
       "      <td>2017-11-14</td>\n",
       "      <td>Ed Sheeran - Perfect (Official Music Video)</td>\n",
       "      <td>Ed Sheeran</td>\n",
       "      <td>10.0</td>\n",
       "      <td>2017-11-09 11:04:14</td>\n",
       "      <td>edsheeran|\"ed sheeran\"|\"acoustic\"|\"live\"|\"cove...</td>\n",
       "      <td>33523622.0</td>\n",
       "      <td>1634130.0</td>\n",
       "      <td>21082.0</td>\n",
       "      <td>85067.0</td>\n",
       "      <td>https://i.ytimg.com/vi/2Vv-BfVoq4g/default.jpg</td>\n",
       "      <td>False</td>\n",
       "      <td>False</td>\n",
       "      <td>False</td>\n",
       "      <td>🎧: https://ad.gt/yt-perfect\\n💰: https://atlant...</td>\n",
       "      <td>1613048.0</td>\n",
       "      <td>77.513044</td>\n",
       "    </tr>\n",
       "    <tr>\n",
       "      <th>4</th>\n",
       "      <td>0yIWz1XEeyc</td>\n",
       "      <td>2017-11-14</td>\n",
       "      <td>Jake Paul Says Alissa Violet CHEATED with LOGA...</td>\n",
       "      <td>DramaAlert</td>\n",
       "      <td>25.0</td>\n",
       "      <td>2017-11-13 07:37:51</td>\n",
       "      <td>#DramaAlert|\"Drama\"|\"Alert\"|\"DramaAlert\"|\"keem...</td>\n",
       "      <td>1309699.0</td>\n",
       "      <td>103755.0</td>\n",
       "      <td>4613.0</td>\n",
       "      <td>12143.0</td>\n",
       "      <td>https://i.ytimg.com/vi/0yIWz1XEeyc/default.jpg</td>\n",
       "      <td>False</td>\n",
       "      <td>False</td>\n",
       "      <td>False</td>\n",
       "      <td>► Follow for News! - https://twitter.com/KEEMS...</td>\n",
       "      <td>99142.0</td>\n",
       "      <td>22.491871</td>\n",
       "    </tr>\n",
       "  </tbody>\n",
       "</table>\n",
       "</div>"
      ],
      "text/plain": [
       "      video_id trending_date  \\\n",
       "0  n1WpP7iowLc    2017-11-14   \n",
       "1  0dBIkQ4Mz1M    2017-11-14   \n",
       "2  d380meD0W0M    2017-11-14   \n",
       "3  2Vv-BfVoq4g    2017-11-14   \n",
       "4  0yIWz1XEeyc    2017-11-14   \n",
       "\n",
       "                                               title channel_title  \\\n",
       "0         Eminem - Walk On Water (Audio) ft. Beyoncé    EminemVEVO   \n",
       "1                      PLUSH - Bad Unboxing Fan Mail     iDubbbzTV   \n",
       "2                           I Dare You: GOING BALD!?      nigahiga   \n",
       "3        Ed Sheeran - Perfect (Official Music Video)    Ed Sheeran   \n",
       "4  Jake Paul Says Alissa Violet CHEATED with LOGA...    DramaAlert   \n",
       "\n",
       "   category_id         publish_time  \\\n",
       "0         10.0  2017-11-10 17:00:03   \n",
       "1         23.0  2017-11-13 17:00:00   \n",
       "2         24.0  2017-11-12 18:01:41   \n",
       "3         10.0  2017-11-09 11:04:14   \n",
       "4         25.0  2017-11-13 07:37:51   \n",
       "\n",
       "                                                tags       views      likes  \\\n",
       "0  Eminem|\"Walk\"|\"On\"|\"Water\"|\"Aftermath/Shady/In...  17158579.0   787425.0   \n",
       "1  plush|\"bad unboxing\"|\"unboxing\"|\"fan mail\"|\"id...   1014651.0   127794.0   \n",
       "2  ryan|\"higa\"|\"higatv\"|\"nigahiga\"|\"i dare you\"|\"...   2095828.0   132239.0   \n",
       "3  edsheeran|\"ed sheeran\"|\"acoustic\"|\"live\"|\"cove...  33523622.0  1634130.0   \n",
       "4  #DramaAlert|\"Drama\"|\"Alert\"|\"DramaAlert\"|\"keem...   1309699.0   103755.0   \n",
       "\n",
       "   dislikes  comment_count                                  thumbnail_link  \\\n",
       "0   43420.0       125882.0  https://i.ytimg.com/vi/n1WpP7iowLc/default.jpg   \n",
       "1    1688.0        13030.0  https://i.ytimg.com/vi/0dBIkQ4Mz1M/default.jpg   \n",
       "2    1989.0        17518.0  https://i.ytimg.com/vi/d380meD0W0M/default.jpg   \n",
       "3   21082.0        85067.0  https://i.ytimg.com/vi/2Vv-BfVoq4g/default.jpg   \n",
       "4    4613.0        12143.0  https://i.ytimg.com/vi/0yIWz1XEeyc/default.jpg   \n",
       "\n",
       "   comments_disabled  ratings_disabled  video_error_or_removed  \\\n",
       "0              False             False                   False   \n",
       "1              False             False                   False   \n",
       "2              False             False                   False   \n",
       "3              False             False                   False   \n",
       "4              False             False                   False   \n",
       "\n",
       "                                         description  like_diff  like_ratio  \n",
       "0  Eminem's new track Walk on Water ft. Beyoncé i...   744005.0   18.135076  \n",
       "1  STill got a lot of packages. Probably will las...   126106.0   75.707346  \n",
       "2  I know it's been a while since we did this sho...   130250.0   66.485168  \n",
       "3  🎧: https://ad.gt/yt-perfect\\n💰: https://atlant...  1613048.0   77.513044  \n",
       "4  ► Follow for News! - https://twitter.com/KEEMS...    99142.0   22.491871  "
      ]
     },
     "execution_count": 11,
     "metadata": {},
     "output_type": "execute_result"
    }
   ],
   "source": [
    "df['like_diff'] = df['likes'] - df['dislikes']\n",
    "df['like_ratio'] = df['likes'] / df['dislikes']\n",
    "df.head()"
   ]
  },
  {
   "cell_type": "code",
   "execution_count": 12,
   "id": "brazilian-clone",
   "metadata": {},
   "outputs": [
    {
     "name": "stdout",
     "output_type": "stream",
     "text": [
      "<class 'pandas.core.frame.DataFrame'>\n",
      "RangeIndex: 40880 entries, 0 to 40879\n",
      "Data columns (total 18 columns):\n",
      " #   Column                  Non-Null Count  Dtype  \n",
      "---  ------                  --------------  -----  \n",
      " 0   video_id                40880 non-null  object \n",
      " 1   trending_date           40880 non-null  object \n",
      " 2   title                   40880 non-null  object \n",
      " 3   channel_title           40880 non-null  object \n",
      " 4   category_id             40880 non-null  float64\n",
      " 5   publish_time            40880 non-null  object \n",
      " 6   tags                    40880 non-null  object \n",
      " 7   views                   40880 non-null  float64\n",
      " 8   likes                   40880 non-null  float64\n",
      " 9   dislikes                40880 non-null  float64\n",
      " 10  comment_count           40880 non-null  float64\n",
      " 11  thumbnail_link          40880 non-null  object \n",
      " 12  comments_disabled       40880 non-null  bool   \n",
      " 13  ratings_disabled        40880 non-null  bool   \n",
      " 14  video_error_or_removed  40880 non-null  bool   \n",
      " 15  description             39584 non-null  object \n",
      " 16  like_diff               40880 non-null  float64\n",
      " 17  like_ratio              40596 non-null  float64\n",
      "dtypes: bool(3), float64(7), object(8)\n",
      "memory usage: 4.8+ MB\n"
     ]
    }
   ],
   "source": [
    "df.info()"
   ]
  },
  {
   "cell_type": "markdown",
   "id": "seventh-aerospace",
   "metadata": {},
   "source": [
    "284 rows have bad data in the like_ratio column."
   ]
  },
  {
   "cell_type": "code",
   "execution_count": 13,
   "id": "narrow-creek",
   "metadata": {},
   "outputs": [],
   "source": [
    "df = df[df['like_ratio'].notna()]"
   ]
  },
  {
   "cell_type": "markdown",
   "id": "commercial-transparency",
   "metadata": {},
   "source": [
    "Let's calculate the time it took for each video to trend. That is just the trending date minus the publishing date."
   ]
  },
  {
   "cell_type": "code",
   "execution_count": 14,
   "id": "spoken-offense",
   "metadata": {},
   "outputs": [],
   "source": [
    "df['publish_time'] = pd.to_datetime(df['publish_time'])\n",
    "df['trending_date'] = pd.to_datetime(df['trending_date'])"
   ]
  },
  {
   "cell_type": "code",
   "execution_count": 15,
   "id": "indian-catalyst",
   "metadata": {},
   "outputs": [
    {
     "data": {
      "text/plain": [
       "Timedelta('3657 days 22:27:44')"
      ]
     },
     "execution_count": 15,
     "metadata": {},
     "output_type": "execute_result"
    }
   ],
   "source": [
    "df['time_to_trend'] = df['trending_date'] - df['publish_time']\n",
    "df.time_to_trend.max()"
   ]
  },
  {
   "cell_type": "code",
   "execution_count": 16,
   "id": "automated-composite",
   "metadata": {},
   "outputs": [
    {
     "data": {
      "text/html": [
       "<div>\n",
       "<style scoped>\n",
       "    .dataframe tbody tr th:only-of-type {\n",
       "        vertical-align: middle;\n",
       "    }\n",
       "\n",
       "    .dataframe tbody tr th {\n",
       "        vertical-align: top;\n",
       "    }\n",
       "\n",
       "    .dataframe thead th {\n",
       "        text-align: right;\n",
       "    }\n",
       "</style>\n",
       "<table border=\"1\" class=\"dataframe\">\n",
       "  <thead>\n",
       "    <tr style=\"text-align: right;\">\n",
       "      <th></th>\n",
       "      <th>video_id</th>\n",
       "      <th>trending_date</th>\n",
       "      <th>title</th>\n",
       "      <th>channel_title</th>\n",
       "      <th>category_id</th>\n",
       "      <th>publish_time</th>\n",
       "      <th>tags</th>\n",
       "      <th>views</th>\n",
       "      <th>likes</th>\n",
       "      <th>dislikes</th>\n",
       "      <th>comment_count</th>\n",
       "      <th>thumbnail_link</th>\n",
       "      <th>comments_disabled</th>\n",
       "      <th>ratings_disabled</th>\n",
       "      <th>video_error_or_removed</th>\n",
       "      <th>description</th>\n",
       "      <th>like_diff</th>\n",
       "      <th>like_ratio</th>\n",
       "      <th>time_to_trend</th>\n",
       "    </tr>\n",
       "  </thead>\n",
       "  <tbody>\n",
       "    <tr>\n",
       "      <th>12684</th>\n",
       "      <td>hTSAyR3nOR0</td>\n",
       "      <td>2018-01-18</td>\n",
       "      <td>Dolores O'riordan - her house in Canada</td>\n",
       "      <td>nenuostabu</td>\n",
       "      <td>10.0</td>\n",
       "      <td>2008-01-13 01:32:16</td>\n",
       "      <td>dolores|\"o'riordan\"|\"house\"|\"canada\"|\"artist\"|...</td>\n",
       "      <td>520808.0</td>\n",
       "      <td>1519.0</td>\n",
       "      <td>51.0</td>\n",
       "      <td>302.0</td>\n",
       "      <td>https://i.ytimg.com/vi/hTSAyR3nOR0/default.jpg</td>\n",
       "      <td>False</td>\n",
       "      <td>False</td>\n",
       "      <td>False</td>\n",
       "      <td>Dolores O'riordan - her house in Canada</td>\n",
       "      <td>1468.0</td>\n",
       "      <td>29.784314</td>\n",
       "      <td>3657 days 22:27:44</td>\n",
       "    </tr>\n",
       "  </tbody>\n",
       "</table>\n",
       "</div>"
      ],
      "text/plain": [
       "          video_id trending_date                                    title  \\\n",
       "12684  hTSAyR3nOR0    2018-01-18  Dolores O'riordan - her house in Canada   \n",
       "\n",
       "      channel_title  category_id        publish_time  \\\n",
       "12684    nenuostabu         10.0 2008-01-13 01:32:16   \n",
       "\n",
       "                                                    tags     views   likes  \\\n",
       "12684  dolores|\"o'riordan\"|\"house\"|\"canada\"|\"artist\"|...  520808.0  1519.0   \n",
       "\n",
       "       dislikes  comment_count  \\\n",
       "12684      51.0          302.0   \n",
       "\n",
       "                                       thumbnail_link  comments_disabled  \\\n",
       "12684  https://i.ytimg.com/vi/hTSAyR3nOR0/default.jpg              False   \n",
       "\n",
       "       ratings_disabled  video_error_or_removed  \\\n",
       "12684             False                   False   \n",
       "\n",
       "                                   description  like_diff  like_ratio  \\\n",
       "12684  Dolores O'riordan - her house in Canada     1468.0   29.784314   \n",
       "\n",
       "           time_to_trend  \n",
       "12684 3657 days 22:27:44  "
      ]
     },
     "execution_count": 16,
     "metadata": {},
     "output_type": "execute_result"
    }
   ],
   "source": [
    "df[df['time_to_trend'] == df['time_to_trend'].max()]"
   ]
  },
  {
   "cell_type": "markdown",
   "id": "compliant-favor",
   "metadata": {},
   "source": [
    "So this Video with id hTSAyR3nOR0 took 3657 days to trend from the day it got posted"
   ]
  },
  {
   "cell_type": "markdown",
   "id": "lovely-acrobat",
   "metadata": {},
   "source": [
    "Looking at the top channels with total number of views combined from all videos"
   ]
  },
  {
   "cell_type": "code",
   "execution_count": 17,
   "id": "western-beads",
   "metadata": {},
   "outputs": [
    {
     "data": {
      "text/html": [
       "<div>\n",
       "<style scoped>\n",
       "    .dataframe tbody tr th:only-of-type {\n",
       "        vertical-align: middle;\n",
       "    }\n",
       "\n",
       "    .dataframe tbody tr th {\n",
       "        vertical-align: top;\n",
       "    }\n",
       "\n",
       "    .dataframe thead th {\n",
       "        text-align: right;\n",
       "    }\n",
       "</style>\n",
       "<table border=\"1\" class=\"dataframe\">\n",
       "  <thead>\n",
       "    <tr style=\"text-align: right;\">\n",
       "      <th></th>\n",
       "      <th>channel_title</th>\n",
       "      <th>views</th>\n",
       "    </tr>\n",
       "  </thead>\n",
       "  <tbody>\n",
       "    <tr>\n",
       "      <th>2399</th>\n",
       "      <td>Marvel Entertainment</td>\n",
       "      <td>1.011420e+09</td>\n",
       "    </tr>\n",
       "    <tr>\n",
       "      <th>3568</th>\n",
       "      <td>T-Series</td>\n",
       "      <td>7.991140e+08</td>\n",
       "    </tr>\n",
       "    <tr>\n",
       "      <th>1091</th>\n",
       "      <td>Dude Perfect</td>\n",
       "      <td>7.299163e+08</td>\n",
       "    </tr>\n",
       "    <tr>\n",
       "      <th>4357</th>\n",
       "      <td>YouTube Spotlight</td>\n",
       "      <td>6.359768e+08</td>\n",
       "    </tr>\n",
       "    <tr>\n",
       "      <th>4557</th>\n",
       "      <td>ibighit</td>\n",
       "      <td>5.115679e+08</td>\n",
       "    </tr>\n",
       "    <tr>\n",
       "      <th>...</th>\n",
       "      <td>...</td>\n",
       "      <td>...</td>\n",
       "    </tr>\n",
       "    <tr>\n",
       "      <th>1143</th>\n",
       "      <td>Edmonton Oilers</td>\n",
       "      <td>2.291000e+03</td>\n",
       "    </tr>\n",
       "    <tr>\n",
       "      <th>640</th>\n",
       "      <td>CURLSASK</td>\n",
       "      <td>2.248000e+03</td>\n",
       "    </tr>\n",
       "    <tr>\n",
       "      <th>521</th>\n",
       "      <td>Boston Celtics on MassLive</td>\n",
       "      <td>1.637000e+03</td>\n",
       "    </tr>\n",
       "    <tr>\n",
       "      <th>3048</th>\n",
       "      <td>Qc TV HD</td>\n",
       "      <td>1.569000e+03</td>\n",
       "    </tr>\n",
       "    <tr>\n",
       "      <th>2415</th>\n",
       "      <td>Mathieu Désy</td>\n",
       "      <td>1.464000e+03</td>\n",
       "    </tr>\n",
       "  </tbody>\n",
       "</table>\n",
       "<p>5019 rows × 2 columns</p>\n",
       "</div>"
      ],
      "text/plain": [
       "                   channel_title         views\n",
       "2399        Marvel Entertainment  1.011420e+09\n",
       "3568                    T-Series  7.991140e+08\n",
       "1091                Dude Perfect  7.299163e+08\n",
       "4357           YouTube Spotlight  6.359768e+08\n",
       "4557                     ibighit  5.115679e+08\n",
       "...                          ...           ...\n",
       "1143             Edmonton Oilers  2.291000e+03\n",
       "640                     CURLSASK  2.248000e+03\n",
       "521   Boston Celtics on MassLive  1.637000e+03\n",
       "3048                    Qc TV HD  1.569000e+03\n",
       "2415                Mathieu Désy  1.464000e+03\n",
       "\n",
       "[5019 rows x 2 columns]"
      ]
     },
     "execution_count": 17,
     "metadata": {},
     "output_type": "execute_result"
    }
   ],
   "source": [
    "df[['channel_title', 'views']].groupby('channel_title').sum().reset_index().sort_values(by='views', ascending = False)"
   ]
  },
  {
   "cell_type": "markdown",
   "id": "relevant-creature",
   "metadata": {},
   "source": [
    "Do videos with comments disabled receive a higher rate of dislikes?\n",
    "\n",
    "Let's investigate the average number of likes and dislikes, and the average ratio of likes to dislikes (like_ratio we calculated before) per video."
   ]
  },
  {
   "cell_type": "code",
   "execution_count": 18,
   "id": "straight-settle",
   "metadata": {},
   "outputs": [
    {
     "data": {
      "text/html": [
       "<div>\n",
       "<style scoped>\n",
       "    .dataframe tbody tr th:only-of-type {\n",
       "        vertical-align: middle;\n",
       "    }\n",
       "\n",
       "    .dataframe tbody tr th {\n",
       "        vertical-align: top;\n",
       "    }\n",
       "\n",
       "    .dataframe thead th {\n",
       "        text-align: right;\n",
       "    }\n",
       "</style>\n",
       "<table border=\"1\" class=\"dataframe\">\n",
       "  <thead>\n",
       "    <tr style=\"text-align: right;\">\n",
       "      <th></th>\n",
       "      <th>comments_disabled</th>\n",
       "      <th>likes</th>\n",
       "      <th>dislikes</th>\n",
       "      <th>like_ratio</th>\n",
       "    </tr>\n",
       "  </thead>\n",
       "  <tbody>\n",
       "    <tr>\n",
       "      <th>0</th>\n",
       "      <td>False</td>\n",
       "      <td>40274.594596</td>\n",
       "      <td>2037.725219</td>\n",
       "      <td>45.722093</td>\n",
       "    </tr>\n",
       "    <tr>\n",
       "      <th>1</th>\n",
       "      <td>True</td>\n",
       "      <td>15953.226306</td>\n",
       "      <td>1324.377176</td>\n",
       "      <td>20.236282</td>\n",
       "    </tr>\n",
       "  </tbody>\n",
       "</table>\n",
       "</div>"
      ],
      "text/plain": [
       "   comments_disabled         likes     dislikes  like_ratio\n",
       "0              False  40274.594596  2037.725219   45.722093\n",
       "1               True  15953.226306  1324.377176   20.236282"
      ]
     },
     "execution_count": 18,
     "metadata": {},
     "output_type": "execute_result"
    }
   ],
   "source": [
    "df = df[df['dislikes'] > 0]\n",
    "df[['comments_disabled', 'likes', 'dislikes', 'like_ratio']].groupby('comments_disabled').mean().reset_index()"
   ]
  },
  {
   "cell_type": "markdown",
   "id": "atlantic-patrick",
   "metadata": {},
   "source": [
    "We can see that videos with comments disabled have an average of 1324 dislikes, compared to videos with comments enabled an average of 2037 dislikes. That seems to suggest they are less disliked. But videos with comments disabled also receive less likes on average. In general, these videos are just less popular.\n",
    "\n",
    "By looking at the like_ratio, we can see that the ratio of likes / dislikes is lower for videos with comments disabled. That is, disabling comments is related to a video receiving relatively higher rates of dislikes (but I don't think this data set can seperate cause vs correlation)."
   ]
  },
  {
   "cell_type": "markdown",
   "id": "interested-photograph",
   "metadata": {},
   "source": [
    "In reality, it will likely take some exploratory coding to figure out how to accomplish this. I double checked my results using a couple specific videos to see that everything made sense."
   ]
  },
  {
   "cell_type": "markdown",
   "id": "twelve-brunei",
   "metadata": {},
   "source": [
    "**Making a plot using Seaborn to see the average number of views per month for channels with trending videos**"
   ]
  },
  {
   "cell_type": "code",
   "execution_count": 19,
   "id": "bacterial-aging",
   "metadata": {},
   "outputs": [],
   "source": [
    "top5_channels = df[['video_id', 'channel_title']].groupby('channel_title').nunique().reset_index().sort_values(by='video_id', ascending=False).head().channel_title"
   ]
  },
  {
   "cell_type": "code",
   "execution_count": 20,
   "id": "exempt-examination",
   "metadata": {},
   "outputs": [],
   "source": [
    "df_top5 = df[df.channel_title.isin(top5_channels)]"
   ]
  },
  {
   "cell_type": "code",
   "execution_count": 21,
   "id": "coral-trademark",
   "metadata": {},
   "outputs": [
    {
     "name": "stderr",
     "output_type": "stream",
     "text": [
      "<ipython-input-21-93985b958929>:1: UserWarning: Boolean Series key will be reindexed to match DataFrame index.\n",
      "  df_top5 = df_top5[df.trending_date.dt.year == 2018]\n"
     ]
    }
   ],
   "source": [
    "df_top5 = df_top5[df.trending_date.dt.year == 2018]"
   ]
  },
  {
   "cell_type": "markdown",
   "id": "universal-tender",
   "metadata": {},
   "source": [
    "Remove duplicate videos. Only the most recent entry for the video is kept, which is done by sorting by date in descending order and keeping only the first entry."
   ]
  },
  {
   "cell_type": "code",
   "execution_count": 22,
   "id": "graphic-carnival",
   "metadata": {},
   "outputs": [],
   "source": [
    "df_top5 = df_top5.sort_values(by='trending_date', ascending=False).drop_duplicates(subset=['video_id'], keep='first')"
   ]
  },
  {
   "cell_type": "markdown",
   "id": "timely-parameter",
   "metadata": {},
   "source": [
    "Extract the month from the trending date information"
   ]
  },
  {
   "cell_type": "code",
   "execution_count": 23,
   "id": "binary-hometown",
   "metadata": {},
   "outputs": [],
   "source": [
    "df_top5['trending_month'] = df_top5.trending_date.dt.month"
   ]
  },
  {
   "cell_type": "code",
   "execution_count": 24,
   "id": "activated-testing",
   "metadata": {},
   "outputs": [
    {
     "data": {
      "text/plain": [
       "<AxesSubplot:xlabel='trending_month', ylabel='views'>"
      ]
     },
     "execution_count": 24,
     "metadata": {},
     "output_type": "execute_result"
    },
    {
     "data": {
      "image/png": "[encoded data removed]",
      "text/plain": [
       "<Figure size 432x288 with 1 Axes>"
      ]
     },
     "metadata": {
      "needs_background": "light"
     },
     "output_type": "display_data"
    }
   ],
   "source": [
    "sns.lineplot(x = df_top5['trending_month'], y = 'views', data = df_top5, hue = df_top5['channel_title'])"
   ]
  },
  {
   "cell_type": "code",
   "execution_count": 25,
   "id": "stable-detection",
   "metadata": {},
   "outputs": [
    {
     "data": {
      "text/plain": [
       "<AxesSubplot:xlabel='trending_month', ylabel='views'>"
      ]
     },
     "execution_count": 25,
     "metadata": {},
     "output_type": "execute_result"
    },
    {
     "data": {
      "image/png": "[encoded data removed]",
      "text/plain": [
       "<Figure size 1152x648 with 1 Axes>"
      ]
     },
     "metadata": {
      "needs_background": "light"
     },
     "output_type": "display_data"
    }
   ],
   "source": [
    "fig, ax = plt.subplots(figsize=(16,9))\n",
    "sns.violinplot(x='trending_month', y='views', data=df_top5, scale='count', ax=ax)"
   ]
  },
  {
   "cell_type": "markdown",
   "id": "level-husband",
   "metadata": {},
   "source": [
    "Making interactive Viz using ipywidgets lib"
   ]
  },
  {
   "cell_type": "code",
   "execution_count": 26,
   "id": "neutral-session",
   "metadata": {},
   "outputs": [],
   "source": [
    "df_master = pd.read_csv('CAvideos.csv', parse_dates=['trending_date', 'publish_time'])\n",
    "df_master['trending_month'] = df_master.trending_date.dt.month"
   ]
  },
  {
   "cell_type": "code",
   "execution_count": 27,
   "id": "swiss-rogers",
   "metadata": {},
   "outputs": [
    {
     "data": {
      "application/vnd.jupyter.widget-view+json": {
       "model_id": "ed0961854b8a46bdb445b901d8e2c2d7",
       "version_major": 2,
       "version_minor": 0
      },
      "text/plain": [
       "interactive(children=(Dropdown(description='channel', options=('All', 'VikatanTV', 'SET India', 'MSNBC', 'Rada…"
      ]
     },
     "metadata": {},
     "output_type": "display_data"
    }
   ],
   "source": [
    "@interact(channel=(['All'] + top5_channels.to_list()))\n",
    "def f(channel):\n",
    "    \n",
    "    df = df_master[df_master.channel_title == channel]\n",
    "    if (channel == 'All'):\n",
    "        df = df_master[df_master.channel_title.isin(top5_channels)]\n",
    "\n",
    "    fig, ax = plt.subplots(figsize=(7,5))\n",
    "    ax = sns.scatterplot(x='views', y='likes', data=df, hue='channel_title', style='channel_title', ax=ax)\n",
    "\n",
    "    ax.set_xlim((0, 1e6))\n",
    "    ax.set_ylim((0, 10000))\n",
    "    ax.set_title(\"top 5 Channels\")"
   ]
  }
 ],
 "metadata": {
  "kernelspec": {
   "display_name": "Python 3",
   "language": "python",
   "name": "python3"
  },
  "language_info": {
   "codemirror_mode": {
    "name": "ipython",
    "version": 3
   },
   "file_extension": ".py",
   "mimetype": "text/x-python",
   "name": "python",
   "nbconvert_exporter": "python",
   "pygments_lexer": "ipython3",
   "version": "3.8.2"
  }
 },
 "nbformat": 4,
 "nbformat_minor": 5
}
